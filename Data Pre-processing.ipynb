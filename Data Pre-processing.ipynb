{
 "cells": [
  {
   "cell_type": "code",
   "execution_count": 20,
   "id": "b50fe8fd-962d-42eb-91f0-53e2a4834ec2",
   "metadata": {},
   "outputs": [],
   "source": [
    "import numpy as np\n",
    "from pathlib import Path\n",
    "import pickle\n",
    "import pymzml\n",
    "from tqdm import tqdm\n",
    "from typing import Union"
   ]
  },
  {
   "cell_type": "code",
   "execution_count": 25,
   "id": "9615b635-3aba-4f81-b34c-5bb68a860096",
   "metadata": {},
   "outputs": [],
   "source": [
    "data_path = Path(\"./data\")"
   ]
  },
  {
   "cell_type": "markdown",
   "id": "d2d3d1bf-4d31-4cef-be3b-bdd14bda4102",
   "metadata": {},
   "source": [
    "## GCMS Pickling"
   ]
  },
  {
   "cell_type": "code",
   "execution_count": 22,
   "id": "aaebeab9-9628-4286-adb2-50beb8330058",
   "metadata": {},
   "outputs": [],
   "source": [
    "def read_gcms(path: Union[str, Path]):\n",
    "    run = pymzml.run.Reader(path)\n",
    "    elements = []\n",
    "    for spectrum in run:\n",
    "        peaks = spectrum.peaks(\"centroided\")\n",
    "        try:\n",
    "            time_in_minutes = spectrum.scan_time_in_minutes()\n",
    "        except:\n",
    "            time_in_minutes = spectrum._scan_time\n",
    "        elements.append((time_in_minutes/60.0, peaks[:,1].sum()))\n",
    "    return np.array(elements)"
   ]
  },
  {
   "cell_type": "code",
   "execution_count": 23,
   "id": "99ed64cd-e7bd-4996-baa3-f7224b4daa63",
   "metadata": {},
   "outputs": [],
   "source": [
    "gcms_groups = {}\n",
    "for f in data_path.glob(\"**/*.mzML\"):\n",
    "    group = f.name.split('-')[0].lower()\n",
    "    gcms_groups[group] = f"
   ]
  },
  {
   "cell_type": "code",
   "execution_count": 24,
   "id": "a9f73236-d72a-42c8-8dd1-b58312fb30f5",
   "metadata": {},
   "outputs": [
    {
     "name": "stderr",
     "output_type": "stream",
     "text": [
      "100%|██████████| 16/16 [02:17<00:00,  8.57s/it]\n"
     ]
    },
    {
     "data": {
      "text/plain": [
       "16"
      ]
     },
     "execution_count": 24,
     "metadata": {},
     "output_type": "execute_result"
    }
   ],
   "source": [
    "gcms_samples = {}\n",
    "for key in tqdm(set(gcms_groups)):\n",
    "    gcms_samples[key] = read_gcms(gcms_groups[key])\n",
    "with open(data_path / \"gcms.pkl\", \"wb\") as f:\n",
    "    pickle.dump(gcms_samples, f)\n",
    "len(gcms_samples)"
   ]
  }
 ],
 "metadata": {
  "kernelspec": {
   "display_name": "Python 3 (ipykernel)",
   "language": "python",
   "name": "python3"
  },
  "language_info": {
   "codemirror_mode": {
    "name": "ipython",
    "version": 3
   },
   "file_extension": ".py",
   "mimetype": "text/x-python",
   "name": "python",
   "nbconvert_exporter": "python",
   "pygments_lexer": "ipython3",
   "version": "3.11.9"
  }
 },
 "nbformat": 4,
 "nbformat_minor": 5
}
