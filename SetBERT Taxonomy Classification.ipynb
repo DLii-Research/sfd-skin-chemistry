{
 "cells": [
  {
   "cell_type": "code",
   "execution_count": 28,
   "id": "876db3ff-df6f-4e34-b3c5-0cd224c47012",
   "metadata": {},
   "outputs": [],
   "source": [
    "from dnadb import dna, fasta\n",
    "from deepdna.nn.models import load_model\n",
    "from deepdna.nn.models import setbert\n",
    "import numpy as np\n",
    "import pandas as pd\n",
    "import pickle\n",
    "from tqdm import tqdm\n",
    "import wandb"
   ]
  },
  {
   "cell_type": "code",
   "execution_count": 44,
   "id": "bb2915a0-141c-4ab6-87e6-ac45a0b19325",
   "metadata": {},
   "outputs": [],
   "source": [
    "with open(\"./logs/sequences.pkl\", \"rb\") as f:\n",
    "    sample_sequences = pickle.load(f)"
   ]
  },
  {
   "cell_type": "code",
   "execution_count": 30,
   "id": "05ce3107-5b3c-42aa-b7e9-1b05cb75ca6c",
   "metadata": {},
   "outputs": [],
   "source": [
    "sequences_db = fasta.FastaDb(\"./SnakeExperiment2/sequences.fasta.db/\")"
   ]
  },
  {
   "cell_type": "code",
   "execution_count": 31,
   "id": "60fb8bc6-f4fa-496e-b7e9-58676611048e",
   "metadata": {},
   "outputs": [],
   "source": [
    "api = wandb.Api()"
   ]
  },
  {
   "cell_type": "code",
   "execution_count": 32,
   "id": "ee0b7774-33f8-4826-b7b6-7a2cfc7eb1b5",
   "metadata": {},
   "outputs": [
    {
     "name": "stderr",
     "output_type": "stream",
     "text": [
      "\u001b[34m\u001b[1mwandb\u001b[0m: Downloading large artifact setbert-taxonomy-topdown-silva-nr99-filtered-515f-806r-64d-150bp:v2, 65.78MB. 4 files... \n",
      "\u001b[34m\u001b[1mwandb\u001b[0m:   4 of 4 files downloaded.  \n",
      "Done. 0:0:0.3\n"
     ]
    }
   ],
   "source": [
    "path = \"sirdavidludwig/taxonomy-classification/setbert-taxonomy-topdown-silva-nr99-filtered-515f-806r-64d-150bp:v2\"\n",
    "model = load_model(api.artifact(path).download(True))"
   ]
  },
  {
   "cell_type": "code",
   "execution_count": 34,
   "id": "2280b058-5c83-409b-a413-000113823a2f",
   "metadata": {},
   "outputs": [
    {
     "data": {
      "text/plain": [
       "FastaEntry(sequence='GTGCCAGCAGCCGCGGTAATACGTAGGTGGCAAGCGTTGTCCGGAATTATTGGGCGTAAAGGGTGCGTAGGTGGCTCTTTAAGTGGGATGTGAAAGCCCTTGGCTCAACCAAGGAACTGCATTCCAAACTGGAGAGCTAGAGTGCAGGAGAGGAAAGTGGAATTCCTAGTGTAGCGGTGAAATGCGTAGAGATTAGGAGGAACACCAGTGGCGAAGGCGACTCGCTGGACTGATACTGACGCTGAGGTGCG', identifier='10409253', extra='')"
      ]
     },
     "execution_count": 34,
     "metadata": {},
     "output_type": "execute_result"
    }
   ],
   "source": [
    "sequences_db[sample_sequences[\"c2\"][0][0][0]]"
   ]
  },
  {
   "cell_type": "code",
   "execution_count": 45,
   "id": "f0453175-712b-409b-acdc-122de842dd04",
   "metadata": {},
   "outputs": [
    {
     "name": "stderr",
     "output_type": "stream",
     "text": [
      "100%|██████████| 14/14 [00:55<00:00,  3.98s/it]\n"
     ]
    }
   ],
   "source": [
    "confidence = 0.0\n",
    "sample_taxonomies = {}\n",
    "for sample_name, samples in tqdm(sample_sequences.items()):\n",
    "    sample_taxonomies[sample_name] = []\n",
    "    for sample in samples:\n",
    "        sample = sample[0]\n",
    "        entries = [sequences_db[id] for id in sample]\n",
    "        entries = [e for e in entries if len(e.sequence) >= 150]\n",
    "        sequences = np.array([dna.encode_sequence(e.sequence[:150]) for e in entries])\n",
    "        assert np.all(sequences < 5)\n",
    "        sequences = dna.encode_kmers(sequences, 3)\n",
    "        result = model.predict(sequences[None,:,:], verbose=False)[0]\n",
    "        result = dict(zip([e.identifier for e in entries], [r.constrained_taxonomy(confidence) for r in result]))\n",
    "        sample_taxonomies[sample_name].append(result)"
   ]
  },
  {
   "cell_type": "code",
   "execution_count": 46,
   "id": "03415eca-4422-4ac4-bdb9-f03ca7ef38d9",
   "metadata": {},
   "outputs": [],
   "source": [
    "with open(\"./logs/taxonomies.pkl\", \"wb\") as f:\n",
    "    pickle.dump(sample_taxonomies, f)"
   ]
  },
  {
   "cell_type": "code",
   "execution_count": null,
   "id": "c33f3162-844b-4897-be75-41793f4bc78d",
   "metadata": {},
   "outputs": [],
   "source": []
  }
 ],
 "metadata": {
  "kernelspec": {
   "display_name": "Python 3 (ipykernel)",
   "language": "python",
   "name": "python3"
  },
  "language_info": {
   "codemirror_mode": {
    "name": "ipython",
    "version": 3
   },
   "file_extension": ".py",
   "mimetype": "text/x-python",
   "name": "python",
   "nbconvert_exporter": "python",
   "pygments_lexer": "ipython3",
   "version": "3.11.9"
  }
 },
 "nbformat": 4,
 "nbformat_minor": 5
}
